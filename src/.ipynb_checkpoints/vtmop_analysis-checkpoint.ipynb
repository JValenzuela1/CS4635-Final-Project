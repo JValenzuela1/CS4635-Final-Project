{
 "cells": [
  {
   "cell_type": "markdown",
   "id": "f3469bf9",
   "metadata": {},
   "source": [
    "# VTMOP Optimization and Result Analysis\n",
    "\n",
    "This notebook demonstrates the implementation of the VTMOP optimization tool on Delta using Fortran.\n",
    "The optimization problems are defined and solved using Fortran source code, while Python is used to extract and visualize key results such as discrepancy metrics.\n"
   ]
  },
  {
   "cell_type": "code",
   "execution_count": 1,
   "id": "36956f22",
   "metadata": {
    "tags": []
   },
   "outputs": [],
   "source": [
    "# Not needed for this kernal :)\n",
    "# !module load gcc/10.2.0\n",
    "# !module load python/3.8.6\n"
   ]
  },
  {
   "cell_type": "markdown",
   "id": "204b283d",
   "metadata": {},
   "source": [
    "## Compile Fortran Code"
   ]
  },
  {
   "cell_type": "code",
   "execution_count": 2,
   "id": "d2b5c2ec",
   "metadata": {
    "tags": []
   },
   "outputs": [
    {
     "name": "stdout",
     "output_type": "stream",
     "text": [
      "\u001b[01m\u001b[Kslatec.f:955:24:\u001b[m\u001b[K\n",
      "\n",
      "  862 |       CALL DCOPY (N, 0.D0, 0, WS, 1)\n",
      "      |                     \u001b[32m\u001b[K2\u001b[m\u001b[K   \n",
      "......\n",
      "  955 |          CALL DCOPY (N, WS, 1, X, 1)\n",
      "      |                        \u001b[01;35m\u001b[K1\u001b[m\u001b[K\n",
      "\u001b[01;35m\u001b[KWarning:\u001b[m\u001b[K Rank mismatch between actual argument at \u001b[01;35m\u001b[K(1)\u001b[m\u001b[K and actual argument at \u001b[32m\u001b[K(2)\u001b[m\u001b[K (scalar and rank-1)\n",
      "\u001b[01m\u001b[Kslatec.f:967:25:\u001b[m\u001b[K\n",
      "\n",
      "  862 |       CALL DCOPY (N, 0.D0, 0, WS, 1)\n",
      "      |                     \u001b[32m\u001b[K2\u001b[m\u001b[K    \n",
      "......\n",
      "  967 |       CALL DCOPY (KRANK, W, MDW+1, WS(N2), 1)\n",
      "      |                         \u001b[01;35m\u001b[K1\u001b[m\u001b[K\n",
      "\u001b[01;35m\u001b[KWarning:\u001b[m\u001b[K Rank mismatch between actual argument at \u001b[01;35m\u001b[K(1)\u001b[m\u001b[K and actual argument at \u001b[32m\u001b[K(2)\u001b[m\u001b[K (scalar and rank-2)\n",
      "\u001b[01m\u001b[Kslatec.f:3046:25:\u001b[m\u001b[K\n",
      "\n",
      "  862 |       CALL DCOPY (N, 0.D0, 0, WS, 1)\n",
      "      |                     \u001b[32m\u001b[K2\u001b[m\u001b[K    \n",
      "......\n",
      " 3046 |             CALL DCOPY(N,X,0,X,1)\n",
      "      |                         \u001b[01;35m\u001b[K1\u001b[m\u001b[K\n",
      "\u001b[01;35m\u001b[KWarning:\u001b[m\u001b[K Rank mismatch between actual argument at \u001b[01;35m\u001b[K(1)\u001b[m\u001b[K and actual argument at \u001b[32m\u001b[K(2)\u001b[m\u001b[K (scalar and rank-1)\n",
      "\u001b[01m\u001b[Kslatec.f:3963:28:\u001b[m\u001b[K\n",
      "\n",
      "  862 |       CALL DCOPY (N, 0.D0, 0, WS, 1)\n",
      "      |                     \u001b[32m\u001b[K2\u001b[m\u001b[K       \n",
      "......\n",
      " 3963 |          CALL DCOPY (NSOLN, Z, 1, X, 1)\n",
      "      |                            \u001b[01;35m\u001b[K1\u001b[m\u001b[K\n",
      "\u001b[01;35m\u001b[KWarning:\u001b[m\u001b[K Rank mismatch between actual argument at \u001b[01;35m\u001b[K(1)\u001b[m\u001b[K and actual argument at \u001b[32m\u001b[K(2)\u001b[m\u001b[K (scalar and rank-1)\n",
      "\u001b[01m\u001b[Kslatec.f:4131:25:\u001b[m\u001b[K\n",
      "\n",
      "  862 |       CALL DCOPY (N, 0.D0, 0, WS, 1)\n",
      "      |                     \u001b[32m\u001b[K2\u001b[m\u001b[K    \n",
      "......\n",
      " 4131 |       CALL DCOPY (NSOLN, Z, 1, X, 1)\n",
      "      |                         \u001b[01;35m\u001b[K1\u001b[m\u001b[K\n",
      "\u001b[01;35m\u001b[KWarning:\u001b[m\u001b[K Rank mismatch between actual argument at \u001b[01;35m\u001b[K(1)\u001b[m\u001b[K and actual argument at \u001b[32m\u001b[K(2)\u001b[m\u001b[K (scalar and rank-1)\n",
      "\u001b[01m\u001b[Kslatec.f:596:26:\u001b[m\u001b[K\n",
      "\n",
      "  596 |   160 CALL DCOPY (KRANKE, W, MDW+1, WS(KRANKE+1), 1)\n",
      "      |                          \u001b[01;35m\u001b[K1\u001b[m\u001b[K\n",
      "......\n",
      "  862 |       CALL DCOPY (N, 0.D0, 0, WS, 1)\n",
      "      |                     \u001b[32m\u001b[K2\u001b[m\u001b[K     \n",
      "\u001b[01;35m\u001b[KWarning:\u001b[m\u001b[K Rank mismatch between actual argument at \u001b[01;35m\u001b[K(1)\u001b[m\u001b[K and actual argument at \u001b[32m\u001b[K(2)\u001b[m\u001b[K (scalar and rank-2)\n"
     ]
    }
   ],
   "source": [
    "# Compile the Fortran program for p=2, budget=1000\n",
    "# If we were to compile all of our data, it would take a long time, so we are running just one example of our lowest budget and problem.\n",
    "!gfortran -std=legacy -O2 -fopenmp shared_modules.f90 blas.f lapack.f slatec.f \\\n",
    "qnstop.f90 sVTdirect.f90 bVTdirect.f90 delsparse.f90 linear_shepard.f90 \\\n",
    "vtmop.f90 vtmop_func.f90 samples_p2_1000.f90 -o samples_p2_1000\n"
   ]
  },
  {
   "cell_type": "markdown",
   "id": "e24c4fc8",
   "metadata": {},
   "source": [
    "## Run VTMOP with Input File"
   ]
  },
  {
   "cell_type": "code",
   "execution_count": 3,
   "id": "b407f134",
   "metadata": {
    "tags": []
   },
   "outputs": [
    {
     "name": "stdout",
     "output_type": "stream",
     "text": [
      "/bin/bash: namelist_p2_1000.in: No such file or directory\n"
     ]
    }
   ],
   "source": [
    "# Run the compiled executable with a Fortran namelist input\n",
    "!./samples_p2_1000 < namelist_p2_1000.in"
   ]
  },
  {
   "cell_type": "markdown",
   "id": "c091e034",
   "metadata": {},
   "source": [
    "## Extract Discrepancy Using Python"
   ]
  },
  {
   "cell_type": "code",
   "execution_count": null,
   "id": "8cca5925",
   "metadata": {},
   "outputs": [
    {
     "ename": "FileNotFoundError",
     "evalue": "[Errno 2] No such file or directory: 'results/problem_1_budget_1000.out'",
     "output_type": "error",
     "traceback": [
      "\u001b[1;31m---------------------------------------------------------------------------\u001b[0m",
      "\u001b[1;31mFileNotFoundError\u001b[0m                         Traceback (most recent call last)",
      "Cell \u001b[1;32mIn[4], line 18\u001b[0m\n\u001b[0;32m     15\u001b[0m     \u001b[38;5;28;01mreturn\u001b[39;00m data\n\u001b[0;32m     17\u001b[0m \u001b[38;5;66;03m# Example usage\u001b[39;00m\n\u001b[1;32m---> 18\u001b[0m discrepancy_data \u001b[38;5;241m=\u001b[39m extract_discrepancy(\u001b[38;5;124m'\u001b[39m\u001b[38;5;124mresults/problem_1_budget_1000.out\u001b[39m\u001b[38;5;124m'\u001b[39m)\n\u001b[0;32m     19\u001b[0m \u001b[38;5;28;01mfor\u001b[39;00m line \u001b[38;5;129;01min\u001b[39;00m discrepancy_data:\n\u001b[0;32m     20\u001b[0m     \u001b[38;5;28mprint\u001b[39m(line)\n",
      "Cell \u001b[1;32mIn[4], line 4\u001b[0m, in \u001b[0;36mextract_discrepancy\u001b[1;34m(filepath)\u001b[0m\n\u001b[0;32m      3\u001b[0m \u001b[38;5;28;01mdef\u001b[39;00m \u001b[38;5;21mextract_discrepancy\u001b[39m(filepath):\n\u001b[1;32m----> 4\u001b[0m     \u001b[38;5;28;01mwith\u001b[39;00m \u001b[38;5;28mopen\u001b[39m(filepath, \u001b[38;5;124m'\u001b[39m\u001b[38;5;124mr\u001b[39m\u001b[38;5;124m'\u001b[39m) \u001b[38;5;28;01mas\u001b[39;00m f:\n\u001b[0;32m      5\u001b[0m         lines \u001b[38;5;241m=\u001b[39m f\u001b[38;5;241m.\u001b[39mreadlines()\n\u001b[0;32m      6\u001b[0m     start \u001b[38;5;241m=\u001b[39m \u001b[38;5;28;01mFalse\u001b[39;00m\n",
      "File \u001b[1;32mc:\\Users\\jaksm\\anaconda3\\Lib\\site-packages\\IPython\\core\\interactiveshell.py:324\u001b[0m, in \u001b[0;36m_modified_open\u001b[1;34m(file, *args, **kwargs)\u001b[0m\n\u001b[0;32m    317\u001b[0m \u001b[38;5;28;01mif\u001b[39;00m file \u001b[38;5;129;01min\u001b[39;00m {\u001b[38;5;241m0\u001b[39m, \u001b[38;5;241m1\u001b[39m, \u001b[38;5;241m2\u001b[39m}:\n\u001b[0;32m    318\u001b[0m     \u001b[38;5;28;01mraise\u001b[39;00m \u001b[38;5;167;01mValueError\u001b[39;00m(\n\u001b[0;32m    319\u001b[0m         \u001b[38;5;124mf\u001b[39m\u001b[38;5;124m\"\u001b[39m\u001b[38;5;124mIPython won\u001b[39m\u001b[38;5;124m'\u001b[39m\u001b[38;5;124mt let you open fd=\u001b[39m\u001b[38;5;132;01m{\u001b[39;00mfile\u001b[38;5;132;01m}\u001b[39;00m\u001b[38;5;124m by default \u001b[39m\u001b[38;5;124m\"\u001b[39m\n\u001b[0;32m    320\u001b[0m         \u001b[38;5;124m\"\u001b[39m\u001b[38;5;124mas it is likely to crash IPython. If you know what you are doing, \u001b[39m\u001b[38;5;124m\"\u001b[39m\n\u001b[0;32m    321\u001b[0m         \u001b[38;5;124m\"\u001b[39m\u001b[38;5;124myou can use builtins\u001b[39m\u001b[38;5;124m'\u001b[39m\u001b[38;5;124m open.\u001b[39m\u001b[38;5;124m\"\u001b[39m\n\u001b[0;32m    322\u001b[0m     )\n\u001b[1;32m--> 324\u001b[0m \u001b[38;5;28;01mreturn\u001b[39;00m io_open(file, \u001b[38;5;241m*\u001b[39margs, \u001b[38;5;241m*\u001b[39m\u001b[38;5;241m*\u001b[39mkwargs)\n",
      "\u001b[1;31mFileNotFoundError\u001b[0m: [Errno 2] No such file or directory: 'results/problem_1_budget_1000.out'"
     ]
    }
   ],
   "source": [
    "# This function assumes a custom parser script that extracts discrepancy values from output files\n",
    "!python3 analyze_results.py\n"
   ]
  },
  {
   "cell_type": "markdown",
   "id": "f5584780",
   "metadata": {},
   "source": [
    "## Plot Discrepancy (if data structured)"
   ]
  },
  {
   "cell_type": "code",
   "execution_count": null,
   "id": "0147be40",
   "metadata": {},
   "outputs": [],
   "source": [
    "# Example visualization (assumes you structure the parsed data into numeric values)\n",
    "with open(\"parsed_results_p2_1000.txt\", \"r\") as f:\n",
    "    print(f.read())"
   ]
  }
 ],
 "metadata": {
  "kernelspec": {
   "display_name": "base",
   "language": "python",
   "name": "python3"
  },
  "language_info": {
   "codemirror_mode": {
    "name": "ipython",
    "version": 3
   },
   "file_extension": ".py",
   "mimetype": "text/x-python",
   "name": "python",
   "nbconvert_exporter": "python",
   "pygments_lexer": "ipython3",
   "version": "3.11.9"
  }
 },
 "nbformat": 4,
 "nbformat_minor": 5
}
